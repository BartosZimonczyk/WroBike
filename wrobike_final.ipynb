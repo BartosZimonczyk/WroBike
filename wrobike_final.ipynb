{
  "nbformat": 4,
  "nbformat_minor": 0,
  "metadata": {
    "colab": {
      "name": "wrobike-final.ipynb",
      "provenance": [],
      "collapsed_sections": [],
      "toc_visible": true
    },
    "kernelspec": {
      "display_name": "Python 3",
      "language": "python",
      "name": "python3"
    },
    "language_info": {
      "codemirror_mode": {
        "name": "ipython",
        "version": 3
      },
      "file_extension": ".py",
      "mimetype": "text/x-python",
      "name": "python",
      "nbconvert_exporter": "python",
      "pygments_lexer": "ipython3",
      "version": "3.6.9"
    }
  },
  "cells": [
    {
      "cell_type": "markdown",
      "metadata": {
        "id": "_-s4h8qohQln"
      },
      "source": [
        "#Imports"
      ]
    },
    {
      "cell_type": "code",
      "metadata": {
        "colab": {
          "base_uri": "https://localhost:8080/"
        },
        "id": "S8NGbQrdhOWh",
        "outputId": "049cf88a-1f1a-48d8-a222-f8a8246f8bad"
      },
      "source": [
        "# Standard IPython notebook imports\n",
        "%matplotlib inline\n",
        "\n",
        "! apt-get install default-jre\n",
        "\n",
        "import os\n",
        "from io import StringIO\n",
        "\n",
        "import graphviz\n",
        "import httpimport\n",
        "import matplotlib.pyplot as plt\n",
        "import matplotlib.dates as mdates\n",
        "import numpy as np\n",
        "import pandas as pd\n",
        "import scipy.stats as sstats\n",
        "import seaborn as sns\n",
        "import sklearn.ensemble\n",
        "import sklearn.tree\n",
        "from sklearn.model_selection import train_test_split\n",
        "from sklearn.metrics import mean_squared_error, r2_score\n",
        "from tqdm import tqdm_notebook\n",
        "import urllib.request\n",
        "\n",
        "# Memory profiling\n",
        "!pip install memory_profiler\n",
        "%load_ext memory_profiler"
      ],
      "execution_count": null,
      "outputs": [
        {
          "output_type": "stream",
          "text": [
            "Reading package lists... Done\n",
            "Building dependency tree       \n",
            "Reading state information... Done\n",
            "default-jre is already the newest version (2:1.11-68ubuntu1~18.04.1).\n",
            "0 upgraded, 0 newly installed, 0 to remove and 15 not upgraded.\n",
            "Requirement already satisfied: memory_profiler in /usr/local/lib/python3.6/dist-packages (0.58.0)\n",
            "Requirement already satisfied: psutil in /usr/local/lib/python3.6/dist-packages (from memory_profiler) (5.4.8)\n",
            "The memory_profiler extension is already loaded. To reload it, use:\n",
            "  %reload_ext memory_profiler\n"
          ],
          "name": "stdout"
        }
      ]
    },
    {
      "cell_type": "markdown",
      "metadata": {
        "id": "KWcpAr0PxSSx"
      },
      "source": [
        "#Data preparation"
      ]
    },
    {
      "cell_type": "markdown",
      "metadata": {
        "id": "LjUW1NbxhUsU"
      },
      "source": [
        "##Dataset loading"
      ]
    },
    {
      "cell_type": "markdown",
      "metadata": {
        "id": "Ip0Jb5qGqqfm"
      },
      "source": [
        "From year 2015 there are ~1 million records available, ~843k from 2016. As for the monthly data it goes like this:\n",
        "```\n",
        "03_2019 44398\n",
        "04_2019 192394\n",
        "05_2019 174104\n",
        "06_2019 330388\n",
        "07_2019 308896\n",
        "08_2019 274587\n",
        "09_2019 200461\n",
        "10_2019 188419\n",
        "11_2019 110079\n",
        "12_2019 50062\n",
        "01_2020 39926\n",
        "```"
      ]
    },
    {
      "cell_type": "code",
      "metadata": {
        "id": "jWy6zwpNnWA1"
      },
      "source": [
        "PLACES_URL = 'https://www.wroclaw.pl/open-data/datastore/dump/42eea6ec-43c3-4d13-aa77-a93394d6165a'\n",
        "\n",
        "def normalize_place(place):\n",
        "    return place.replace(' - ', ' / ').lower()\n",
        "\n",
        "# places that probable are not real (placeholders etc.):\n",
        "# 'Poza stacją', '.GOTOWE DO REZERWACJI', 'NIOL test', '.RELOKACYJNA', '# Rowery skardzione Wrocław 2014', 'MAHLE'\n",
        "place_series = pd.read_csv(PLACES_URL, usecols = ['name']).name"
      ],
      "execution_count": null,
      "outputs": []
    },
    {
      "cell_type": "code",
      "metadata": {
        "id": "IgYZXN-Rp6_p"
      },
      "source": [
        "URLS = {\n",
        "    '2015': 'https://www.wroclaw.pl/open-data/dataset/a646ce34-b24a-4f5c-8174-71dfc1bd2d0b/resource/64a623d6-2a98-4660-be83-85354e94bca3/download/wypozyczenia_wrm-sezon2015.xlsx',\n",
        "    '2016': 'https://www.wroclaw.pl/open-data/dataset/a646ce34-b24a-4f5c-8174-71dfc1bd2d0b/resource/276306b4-9ab7-4036-a7e3-ee7af3b485d5/download/wypozyczenia_wrm-sezon2016.xlsx',\n",
        "    '03_2019': 'https://www.wroclaw.pl/open-data/dataset/a646ce34-b24a-4f5c-8174-71dfc1bd2d0b/resource/30d9e087-bafd-441e-aa09-f20a11fc60f5/download/historia_przejazdow_2019-03.csv',\n",
        "    '04_2019': 'https://www.wroclaw.pl/open-data/dataset/a646ce34-b24a-4f5c-8174-71dfc1bd2d0b/resource/1175d9da-3ae2-4ebc-8b1c-1f13fb5bf7b0/download/historia_przejazdow_2019-04.csv',\n",
        "    '05_2019': 'https://www.wroclaw.pl/open-data/dataset/a646ce34-b24a-4f5c-8174-71dfc1bd2d0b/resource/a24161cc-3974-4741-9ddf-fe8663fa641b/download/historia_przejazdow_2019-05.csv',\n",
        "    '06_2019': 'https://www.wroclaw.pl/open-data/dataset/a646ce34-b24a-4f5c-8174-71dfc1bd2d0b/resource/4a63e438-2c73-4fe3-9599-21c319887a85/download/historia_przejazdow_2019-06.csv',\n",
        "    '07_2019': 'https://www.wroclaw.pl/open-data/dataset/a646ce34-b24a-4f5c-8174-71dfc1bd2d0b/resource/aa5da036-daad-480b-93c2-f1fbfda9b663/download/historia_przejazdow_2019-07.csv',\n",
        "    '08_2019': 'https://www.wroclaw.pl/open-data/dataset/a646ce34-b24a-4f5c-8174-71dfc1bd2d0b/resource/5812256f-d0a5-43dd-850b-b8e8d13fe557/download/historia_przejazdow_2019-08.csv',\n",
        "    '09_2019': 'https://www.wroclaw.pl/open-data/dataset/a646ce34-b24a-4f5c-8174-71dfc1bd2d0b/resource/673bec03-a145-46ee-a302-9eeabec53728/download/historia_przejazdow_2019-09.csv',\n",
        "    '10_2019': 'https://www.wroclaw.pl/open-data/dataset/a646ce34-b24a-4f5c-8174-71dfc1bd2d0b/resource/31b7a6c6-d0e1-4818-9677-f66cb4809803/download/historia_przejazdow_2019-10.csv',\n",
        "    '11_2019': 'https://www.wroclaw.pl/open-data/dataset/a646ce34-b24a-4f5c-8174-71dfc1bd2d0b/resource/12c60a15-43d9-4c39-88f0-0c7c9a1dbdc9/download/historia_przejazdow_2019-11.csv',\n",
        "    '12_2019': 'https://www.wroclaw.pl/open-data/dataset/a646ce34-b24a-4f5c-8174-71dfc1bd2d0b/resource/ca84c93c-17c3-466e-b064-82ad22481721/download/historia_przejazdow_2019-12.csv',\n",
        "    '01_2020': 'https://www.wroclaw.pl/open-data/dataset/a646ce34-b24a-4f5c-8174-71dfc1bd2d0b/resource/0350bb51-6c66-416a-bb09-db0dbc86aacd/download/historia_przejazdow_2020-01.csv',\n",
        "}\n",
        "\n",
        "METEO_URLS = {\n",
        "    '03_2019' : 'https://www.math.uni.wroc.pl/~mzalew/meteo/weather_reduced2_2019-03.csv',\n",
        "    '04_2019' : 'https://www.math.uni.wroc.pl/~mzalew/meteo/weather_reduced2_2019-04.csv',\n",
        "    '05_2019' : 'https://www.math.uni.wroc.pl/~mzalew/meteo/weather_reduced2_2019-05.csv',\n",
        "    '06_2019' : 'https://www.math.uni.wroc.pl/~mzalew/meteo/weather_reduced2_2019-06.csv',\n",
        "    '07_2019' : 'https://www.math.uni.wroc.pl/~mzalew/meteo/weather_reduced2_2019-07.csv',\n",
        "    '08_2019' : 'https://www.math.uni.wroc.pl/~mzalew/meteo/weather_reduced2_2019-08.csv',\n",
        "    '09_2019' : 'https://www.math.uni.wroc.pl/~mzalew/meteo/weather_reduced2_2019-09.csv',\n",
        "    '10_2019' : 'https://www.math.uni.wroc.pl/~mzalew/meteo/weather_reduced2_2019-10.csv',\n",
        "    '11_2019' : 'https://www.math.uni.wroc.pl/~mzalew/meteo/weather_reduced2_2019-11.csv',\n",
        "    '12_2019' : 'https://www.math.uni.wroc.pl/~mzalew/meteo/weather_reduced2_2019-12.csv',\n",
        "    '01_2020' : 'https://www.math.uni.wroc.pl/~mzalew/meteo/weather_reduced2_2020-01.csv',\n",
        "}"
      ],
      "execution_count": null,
      "outputs": []
    },
    {
      "cell_type": "markdown",
      "metadata": {
        "id": "zD142zNcAY0K"
      },
      "source": [
        "Helper function for accessing CSVs. Caches them on disk for faster reloads. For the case of Excel documents, converts them to CSV (from ~75s load time to ~2s !)."
      ]
    },
    {
      "cell_type": "code",
      "metadata": {
        "id": "vUn_HUs-s6eo"
      },
      "source": [
        "for key in URLS:\n",
        "    path = f\"csv_cache/{key}.csv_cleaned\"\n",
        "    if os.path.exists(path):\n",
        "        os.remove(path)"
      ],
      "execution_count": null,
      "outputs": []
    },
    {
      "cell_type": "code",
      "metadata": {
        "id": "x5fBYktZ-Q3W"
      },
      "source": [
        "def get_data(key, place_as_categorical = True, clean_up_places = False):\n",
        "    usecols = ['uid', 'bike_number', 'start_time', 'end_time', 'rental_place', 'return_place']\n",
        "\n",
        "    # get_data will accept only known (that is, from PLACES_URL document) locations\n",
        "    local_place_series = place_series\n",
        "    if clean_up_places:\n",
        "        local_place_series = place_series.apply(normalize_place)\n",
        "\n",
        "    place_dtype = pd.CategoricalDtype(list(local_place_series))\n",
        "\n",
        "    root = \"csv_cache\"\n",
        "    path = f\"{root}/{key}.csv\"\n",
        "\n",
        "    if len(URLS[key].split('.')) < 2 or URLS[key].split('.')[-1] not in [\"csv\", \"xlsx\"]:\n",
        "        print(\"Unexpected file extension\")\n",
        "        return None\n",
        "\n",
        "    if not os.path.exists(path):\n",
        "        download_path = path\n",
        "\n",
        "        if URLS[key].endswith(\".xlsx\"):\n",
        "            download_path = f\"{path}.xlsx\"\n",
        "\n",
        "        if not os.path.exists(root):\n",
        "            os.mkdir(root)\n",
        "\n",
        "        urllib.request.urlretrieve(URLS[key], download_path)\n",
        "\n",
        "        if URLS[key].endswith(\".xlsx\"):\n",
        "            pd.read_excel(download_path).to_csv(path, index = False)\n",
        "\n",
        "    if clean_up_places:\n",
        "        cleaned_path = f\"{root}/{key}.csv_cleaned\"\n",
        "        if not os.path.exists(cleaned_path):\n",
        "            df = pd.read_csv(path)\n",
        "            to_usecols = dict(zip(df.columns, ['IGNORED: Unnamed: 0'] + usecols))\n",
        "            from_usecols = dict(zip(['IGNORED: Unnamed: 0'] + usecols, df.columns))\n",
        "\n",
        "            df.rename(to_usecols, axis = 'columns', inplace = True)\n",
        "\n",
        "            df['rental_place'] = df.rental_place.apply(normalize_place)\n",
        "            df['return_place'] = df.return_place.apply(normalize_place)\n",
        "\n",
        "            df.rename(from_usecols, axis = 'columns', inplace = True)\n",
        "            df.to_csv(cleaned_path, index = False)\n",
        "        \n",
        "        path = cleaned_path\n",
        "\n",
        "    return pd.read_csv(\n",
        "        path, \n",
        "        names = ['IGNORED: Unnamed: 0'] + usecols, header = 0,\n",
        "        usecols = usecols,\n",
        "        parse_dates = ['start_time', 'end_time'],\n",
        "        dtype = {'rental_place': place_dtype, 'return_place': place_dtype} if place_as_categorical else {}\n",
        "    )\n",
        "\n",
        "### Count duplicate rows in pd.DataFrame\n",
        "# def fun(key):\n",
        "#     ls = [g for _, g in get_data(key).groupby(\"uid\") if len(g) > 1]\n",
        "#     if len(ls) > 0:\n",
        "#         return pd.concat(ls).shape[0]\n",
        "#     return 0\n",
        "# b"
      ],
      "execution_count": null,
      "outputs": []
    },
    {
      "cell_type": "markdown",
      "metadata": {
        "id": "RbLvYmsTfH9R"
      },
      "source": [
        "Weather data"
      ]
    },
    {
      "cell_type": "code",
      "metadata": {
        "id": "7BnCdw4EfH9S"
      },
      "source": [
        "def get_meteo(date):\n",
        "    return pd.read_csv(METEO_URLS[date]).drop(columns=['Unnamed: 0']).rename(columns = { \n",
        "        'Wilgotność względna [%]': 'relative_humidity',\n",
        "        'Temperatura powietrza [°C]': 'temperature',\n",
        "        'Prędkość wiatru  [m/s]': 'wind_speed'\n",
        "    })"
      ],
      "execution_count": null,
      "outputs": []
    },
    {
      "cell_type": "markdown",
      "metadata": {
        "id": "W2nTXuKC6RnG"
      },
      "source": [
        "##Convert rental records into stay records\n",
        "stay -- bike (probably) stayed at the same place for some time\n",
        "\n",
        "Source data has shape:\n",
        "\n",
        "index|uid|bike_number|start_time|end_time|rental_place|return_place\n",
        "-----|---|-----------|----------|--------|------------|------------\n",
        "\n",
        "To predict station occupancy, we would like to have data shaped something like this:\n",
        "\n",
        "data_time|weather data etc.|place|number of bikes\n",
        "---------|-----------------|-----|---------------\n",
        "\n",
        "where date_time will be probably split into month, day of month and day of week columns which will be then 1-hot encoded\n",
        "\n",
        "<br />"
      ]
    },
    {
      "cell_type": "markdown",
      "metadata": {
        "id": "RukQQ3IGOcM6"
      },
      "source": [
        "For now, let's create simple transformation of source data into following shape\n",
        "\n",
        "bike_number|start_time|end_time|place\n",
        "-----------|----------|--------|-----\n",
        "\n",
        "which represents time ranges in which given bike stayed in the same place. This is kind of an inverse of what source data tells us."
      ]
    },
    {
      "cell_type": "code",
      "metadata": {
        "id": "wnDVK4LCI5Zl"
      },
      "source": [
        "def make_stay_df(df):\n",
        "    ### 1. Sort rentals by bike number and time of rental.\n",
        "    ###    As the result, succeeding rentals will (usually) correspond to next rental of the same bike.\n",
        "    ###    We join succeeding rentals as preparation for next step.\n",
        "    df_sorted = df.sort_values(['bike_number', 'start_time']).drop_duplicates(ignore_index=True)\n",
        "\n",
        "    df_left = df_sorted[:-1].add_prefix('left_').reset_index(drop = True)\n",
        "    df_right = df_sorted[1:].add_prefix('right_').reset_index(drop = True)\n",
        "    # types of uids and bike_numbers *used to* get changed into float64s, need further investigation but for now left as-is\n",
        "    df_concat = pd.concat([df_left, df_right], axis = 'columns')\n",
        "\n",
        "    ### 2. Having obtained succeeding bike rental events, we check if they are\n",
        "    ###    indeed rentals of the same bike, if they are from same location\n",
        "    ###    and if the place is provided at all.\n",
        "    minimal_conditions = (df_concat.left_bike_number == df_concat.right_bike_number) \\\n",
        "                       & (df_concat.left_return_place == df_concat.right_rental_place) # same bike & same spot\n",
        "    main_conditions = minimal_conditions \\\n",
        "                    & (~df_concat.left_return_place.isna() & ~df_concat.right_rental_place.isna()) # places aren't NAs\n",
        "    sanity_conditions = main_conditions \\\n",
        "                      & (df_concat.left_end_time <= df_concat.right_start_time) # time coherency (sanity check)\n",
        "\n",
        "    new_columns = {\n",
        "        \"left_bike_number\": \"bike_number\", \n",
        "        \"left_end_time\": \"start_time\", \n",
        "        \"right_start_time\": \"end_time\",\n",
        "        \"left_return_place\": \"place\"\n",
        "    }\n",
        "    stay_df = df_concat.loc[main_conditions,new_columns.keys()].rename(columns = new_columns).reset_index(drop = True)\n",
        "\n",
        "    return stay_df"
      ],
      "execution_count": null,
      "outputs": []
    },
    {
      "cell_type": "markdown",
      "metadata": {
        "id": "8I_ZajCsS6-f"
      },
      "source": [
        "Now we can obtain amout of bikes at each station at different times (for instance, every 15 minutes).\n",
        "\n",
        "timestamp|place_A|place_B|place_C|...\n",
        "---------|-------|-------|-------|---\n",
        "\n",
        "Then, we convert from wide representation of number of bikes on stations into long one:\n",
        "\n",
        "timestamp|place|bikes_count\n",
        "---------|-----|-----------"
      ]
    },
    {
      "cell_type": "code",
      "metadata": {
        "id": "1_-uO9pxJx1A"
      },
      "source": [
        "def make_wide_occupancy_df(stay_df, freq, hours_limit):\n",
        "    ### 3. Now that we have info about where each bike stayed\n",
        "    ###    and during which time period, we can obtain station occupancy.\n",
        "    ###    To do so we first 1-hot encode occupied station, then for given\n",
        "    ###    timestamp sum occupancies at all stations.\n",
        "    ###    Finally, station/place is melt back from 1-hot encoding.\n",
        "\n",
        "    place_cols = [ \"place_\" + p for p in list(place_series) ]\n",
        "    dummies_df = pd.get_dummies(stay_df, columns=['place']).loc[:,place_cols]\n",
        "\n",
        "    # Range of timestamps to consider station occupancy for.\n",
        "    # Currently it's min and max timestamp in input dataframe rounded down or up\n",
        "    # respectively to freq multiple.\n",
        "    all_times = pd.concat([ stay_df.start_time, stay_df.end_time ])\n",
        "    date_range_start = all_times.min().floor(freq)\n",
        "    date_range_end = all_times.max().ceil(freq)\n",
        "    moments = pd.date_range(date_range_start, date_range_end, freq = freq)\n",
        "\n",
        "    if hours_limit:\n",
        "        (hl_start, hl_end) = hours_limit\n",
        "        moments = moments[(moments.hour >= hl_start) & (moments.hour < hl_end)]\n",
        "\n",
        "    # Now for each generated timestamp we calculate occupancies\n",
        "    occupancies = { ts: dummies_df.loc[(stay_df.start_time <= ts) & (ts <= stay_df.end_time)].agg(np.sum) for ts in moments }\n",
        "    occu_df = pd.DataFrame(occupancies).transpose().reset_index().rename(columns = {'index': 'timestamp'})\n",
        "\n",
        "    ### Convert 1-hot encoded bike stations names into single 'place' column\n",
        "    occu_melted_df = occu_df.melt(id_vars = ['timestamp'], value_vars = place_cols, var_name = 'place', value_name = 'bikes_count')\n",
        "    \n",
        "    ### Remove \"place_\" prefix in values, leftover from get_dummies, after melting\n",
        "    occu_melted_df.place = occu_melted_df.place.apply(lambda p: p[len('place_'):])\n",
        "\n",
        "    return occu_melted_df"
      ],
      "execution_count": null,
      "outputs": []
    },
    {
      "cell_type": "markdown",
      "metadata": {
        "id": "yIrdniIEVBb-"
      },
      "source": [
        "Now, we extract useful information from timestamp column:\n",
        "\n",
        "timestamp|month|day_of_month|day_of_week|time_in_seconds|place|bikes_count\n",
        "---------|-----|------------|-----------|---------------|-----|-----------\n",
        "\n",
        "As final arrangement - which will most likely prove useful for training - we drop timestamp column and 1-hot encode month, day_of_month, day_of_week and place columns.\n",
        "\n",
        "month_1|...|month_12|day_of_month_1|...|day_of_month_31|day_of_week_0|...|day_of_week|time_in_seconds|place_A|place_B|...|bikes_count\n",
        "-------|---|--------|--------------|---|---------------|-------------|---|-----------|---------------|-------|-------|---|----------"
      ]
    },
    {
      "cell_type": "code",
      "metadata": {
        "id": "AfNrwypHKGfX"
      },
      "source": [
        "def destruct_timestamp(occu_melted_df):\n",
        "    ###  Extract interesting information from timestamp\n",
        "    ###  into separate columns, such as: month, day of month, day of week\n",
        "    ###  and time in seconds from begining of the day.\n",
        "    dest_df = occu_melted_df.copy()\n",
        "    dest_df['month'] = dest_df.timestamp.apply(lambda ts: ts.month)\n",
        "    dest_df['day_of_month'] = dest_df.timestamp.apply(lambda ts: ts.day)\n",
        "    dest_df['day_of_week'] = dest_df.timestamp.apply(lambda ts: ts.dayofweek)\n",
        "    dest_df['time_in_seconds'] = dest_df.timestamp.apply(lambda ts: (ts - ts.normalize()).seconds)\n",
        "    dest_df = dest_df.reindex(['timestamp', 'month', 'day_of_month', 'day_of_week', 'time_in_seconds', 'place', 'bikes_count'], axis = 1)\n",
        "    return dest_df"
      ],
      "execution_count": null,
      "outputs": []
    },
    {
      "cell_type": "markdown",
      "metadata": {
        "id": "x7R3OGVQWstl"
      },
      "source": [
        "Taking all the above transformations together, we get `make_occupancy_df` function."
      ]
    },
    {
      "cell_type": "code",
      "metadata": {
        "id": "zTb3ZTEed0zC"
      },
      "source": [
        "def make_occupancy_df(df, weather = None, show_weekends = False, freq = '15min', one_hot_encode = True, hours_limit = None):\n",
        "    \"\"\"\n",
        "    Input dataframe df is expected to contain data about bike rentals and have following schema:\n",
        "        uid -- (ignored in the processing) rental unique identifier\n",
        "        bike_number -- indentifier of the bike that was render\n",
        "        start_time: pd.Timestamp -- timestamp when bike was rented\n",
        "        end_time: pd.Timestamp -- timestamp when rental was finished\n",
        "        rental_place: categorical -- bike station on which rental began\n",
        "        return_place: categorical -- bike station on which rental finished\n",
        "\n",
        "        Rental and return place are expected to be categoricals in the domain\n",
        "        of known bike stations. NAs are allowed. Data should NOT be filtered\n",
        "        in respect to rental and return places (i.e. NAs/'Poza stacją' etc. should not be removed).\n",
        "    \"\"\"\n",
        "\n",
        "    ### Highlevel overview: Our input consists of information about bike rentals,\n",
        "    ### we are however interested in information about number of bikes on stations at given times.\n",
        "    ### We will obtain approximation of this info by, for each bike, checking \n",
        "    ### its succeeding rentals and if the first one finished and the second one begun on the same station\n",
        "    ### then we assume that bike was stationary for that period of time on that station.\n",
        "    ### Having that info, we can calculate that data we are interested in.\n",
        "\n",
        "    ### 1-2. Simple transformation of input from bike rentals to bike stays\n",
        "    ###      (bike _probaby_ stayed on some station for some period of time)\n",
        "    stay_df = make_stay_df(df)\n",
        "\n",
        "\n",
        "    ### 3. Create occupancy dataframe (for now with stations 1-hot encoded)\n",
        "    occu_melted_df = make_wide_occupancy_df(stay_df, freq, hours_limit)\n",
        "\n",
        "\n",
        "    ### 4. What is left to do is extract interesting information from timestamp\n",
        "    ###    into separate columns, such as: month, day of month, day of week\n",
        "    ###    and time in seconds from begining of the day.\n",
        "    dest_df = destruct_timestamp(occu_melted_df)\n",
        "    \n",
        "    # TODO: Weather\n",
        "    # weather should be a DataFrame corresponding to given df\n",
        "    if weather is not None:\n",
        "        # creating a new column in order to be able to merge with weather data frame\n",
        "        dest_df['start_hour'] = dest_df.time_in_seconds.apply(lambda t : round(t/3600 + 1e-5))\n",
        "        # due to a new date after a midnight we change 24 for 23 instead of doing mod24\n",
        "        dest_df['start_hour'] = dest_df.start_hour.apply(lambda t : 23 if t==24 else t)\n",
        "        dest_df = dest_df.merge(weather, left_on=['month', 'day_of_month', 'start_hour'], right_on=['month', 'day_of_month', 'start_hour'])\n",
        "        dest_df = dest_df.drop(columns=['start_hour'])\n",
        "\n",
        "    # if we wish to have weekday/weekend differentiation\n",
        "    # 0 - weekday, 1 - weekend\n",
        "    if show_weekends:\n",
        "        dest_df['is_weekend'] = dest_df.day_of_week.apply(lambda d : d>4).astype('bool')\n",
        "        \n",
        "    ### 5. Finally, we drop timestamp columns since it's no longer needed\n",
        "    ###    and 1-hot encode bike station name and timestamp fields\n",
        "    ###    since we probably don't want our models to base their decisions\n",
        "    ###    on numbers assigned to day number in a month/week.\n",
        "    if one_hot_encode:\n",
        "        final_df = pd.get_dummies(dest_df.drop(columns = ['timestamp']), columns = ['month', 'day_of_month', 'day_of_week', 'place'])\n",
        "    else:\n",
        "        final_df = dest_df\n",
        "        \n",
        "\n",
        "    return final_df"
      ],
      "execution_count": null,
      "outputs": []
    },
    {
      "cell_type": "markdown",
      "metadata": {
        "id": "x-43BKaiW0D3"
      },
      "source": [
        "## Usage example"
      ]
    },
    {
      "cell_type": "code",
      "metadata": {
        "colab": {
          "base_uri": "https://localhost:8080/"
        },
        "id": "Ah2GPt6eCOZc",
        "outputId": "64e0ef57-cd4f-4279-8359-20be9161f56f"
      },
      "source": [
        "df = get_data('03_2019')\n",
        "len(df)"
      ],
      "execution_count": null,
      "outputs": [
        {
          "output_type": "execute_result",
          "data": {
            "text/plain": [
              "44398"
            ]
          },
          "metadata": {
            "tags": []
          },
          "execution_count": 38
        }
      ]
    },
    {
      "cell_type": "code",
      "metadata": {
        "colab": {
          "base_uri": "https://localhost:8080/"
        },
        "id": "ujPD7UVTL-dO",
        "outputId": "f33d0775-0e48-4df1-d8fa-ba701eff3d7d"
      },
      "source": [
        "%time df = get_data('05_2019')"
      ],
      "execution_count": null,
      "outputs": [
        {
          "output_type": "stream",
          "text": [
            "CPU times: user 472 ms, sys: 105 ms, total: 577 ms\n",
            "Wall time: 18.1 s\n"
          ],
          "name": "stdout"
        }
      ]
    },
    {
      "cell_type": "code",
      "metadata": {
        "colab": {
          "base_uri": "https://localhost:8080/"
        },
        "id": "5sCfpKF_W4d0",
        "outputId": "16101059-02ea-4199-e0a3-36e47aa623cd"
      },
      "source": [
        "%time occu_df = make_occupancy_df(df, one_hot_encode=False)"
      ],
      "execution_count": null,
      "outputs": [
        {
          "output_type": "stream",
          "text": [
            "CPU times: user 39.8 s, sys: 378 ms, total: 40.2 s\n",
            "Wall time: 40.3 s\n"
          ],
          "name": "stdout"
        }
      ]
    },
    {
      "cell_type": "code",
      "metadata": {
        "colab": {
          "base_uri": "https://localhost:8080/",
          "height": 296
        },
        "id": "zRQY-8feN8Ib",
        "outputId": "d5c11020-99e2-4095-e5ef-57e20ab73ba5"
      },
      "source": [
        "sns.scatterplot(data = occu_df[occu_df.place == 'Plac Grunwaldzki / Polaka'], x = 'timestamp', y = 'bikes_count')"
      ],
      "execution_count": null,
      "outputs": [
        {
          "output_type": "execute_result",
          "data": {
            "text/plain": [
              "<matplotlib.axes._subplots.AxesSubplot at 0x7fd20ee0a668>"
            ]
          },
          "metadata": {
            "tags": []
          },
          "execution_count": 14
        },
        {
          "output_type": "display_data",
          "data": {
            "image/png": "[encoded data removed]",
            "text/plain": [
              "<Figure size 432x288 with 1 Axes>"
            ]
          },
          "metadata": {
            "tags": [],
            "needs_background": "light"
          }
        }
      ]
    },
    {
      "cell_type": "code",
      "metadata": {
        "colab": {
          "base_uri": "https://localhost:8080/",
          "height": 566
        },
        "id": "Bq0M6gp3Mcdh",
        "outputId": "6f9ecb55-60c4-4af3-e259-944d69eefbf1"
      },
      "source": [
        "temp_df = occu_df.loc[(occu_df.place.isin(['Plac Grunwaldzki / Polaka'])) & (occu_df.day_of_week.isin(range(4,6)))]\n",
        "fig, ax = plt.subplots(figsize = (11.7 * 1.5, 8.27))\n",
        "ax = sns.lineplot(ax = ax, data = temp_df, x = 'timestamp', y = 'bikes_count', hue = 'place')\n",
        "ax.set_title(f'Occupancy of bikes stations on friday and saturday from {temp_df.timestamp.min()} to {temp_df.timestamp.max()}')\n",
        "ax.set(xlabel = 'time', ylabel = 'occupancy')\n",
        "ax.tick_params(axis = 'x', rotation=45)"
      ],
      "execution_count": null,
      "outputs": [
        {
          "output_type": "display_data",
          "data": {
            "image/png": "[encoded data removed]",
            "text/plain": [
              "<Figure size 1263.6x595.44 with 1 Axes>"
            ]
          },
          "metadata": {
            "tags": [],
            "needs_background": "light"
          }
        }
      ]
    },
    {
      "cell_type": "code",
      "metadata": {
        "colab": {
          "base_uri": "https://localhost:8080/",
          "height": 556
        },
        "id": "WXrCfGwpNOnf",
        "outputId": "8ab552c1-cc8d-4187-ae15-dcd020b2dfe7"
      },
      "source": [
        "temp_df = occu_df.loc[(occu_df.place.isin(['Wyszyńskiego / Szczytnicka', 'Joliot-Curie (Uwr)', 'Plac Grunwaldzki / Polaka'])) & (occu_df.day_of_month == 15)]\n",
        "fig, ax = plt.subplots(figsize = (11.7 * 1.5, 8.27))\n",
        "ax = sns.lineplot(ax = ax, data = temp_df, x = 'timestamp', y = 'bikes_count', hue = 'place')\n",
        "ax.set_title(f'Occupancy of bikes stations over time from {temp_df.timestamp.min()} to {temp_df.timestamp.max()}')\n",
        "ax.set(xlabel = 'time', ylabel = 'occupancy')\n",
        "# ax.xaxis.set_major_locator(mdates.HourLocator())\n",
        "# ax.xaxis.set_major_formatter(mdates.DateFormatter('%H:%M'))\n",
        "ax.tick_params(axis = 'x', rotation=45)"
      ],
      "execution_count": null,
      "outputs": [
        {
          "output_type": "display_data",
          "data": {
            "image/png": "[encoded data removed]",
            "text/plain": [
              "<Figure size 1263.6x595.44 with 1 Axes>"
            ]
          },
          "metadata": {
            "tags": [],
            "needs_background": "light"
          }
        }
      ]
    },
    {
      "cell_type": "markdown",
      "metadata": {
        "id": "hLEowS5yytSw"
      },
      "source": [
        "# Notes"
      ]
    },
    {
      "cell_type": "markdown",
      "metadata": {
        "id": "FzMqcXr_yvZm"
      },
      "source": [
        "### 1. Occupancy numbers are highly skewed towards 0\n",
        "\n",
        "Example from March 2019:"
      ]
    },
    {
      "cell_type": "code",
      "metadata": {
        "colab": {
          "base_uri": "https://localhost:8080/",
          "height": 512
        },
        "id": "RJV-abRay2co",
        "outputId": "4c7324dd-8718-48e4-9bd3-d12d86592010"
      },
      "source": [
        "df = get_data('03_2019')\n",
        "occu_df = make_occupancy_df(df, one_hot_encode=False)\n",
        "\n",
        "fractions = occu_df.bikes_count.value_counts() / len(occu_df.bikes_count)\n",
        "frac_df = pd.DataFrame(fractions).reset_index().rename(columns = { 'index': 'bikes_count', 'bikes_count': 'fraction' })\n",
        "\n",
        "fig, ax = plt.subplots(figsize = (11.7 * 1.5, 8.27))\n",
        "g = sns.scatterplot(ax = ax, data = frac_df, x = 'bikes_count', y = 'fraction')\n",
        "g.set_yscale(\"log\")"
      ],
      "execution_count": null,
      "outputs": [
        {
          "output_type": "display_data",
          "data": {
            "image/png": "[encoded data removed]",
            "text/plain": [
              "<Figure size 1263.6x595.44 with 1 Axes>"
            ]
          },
          "metadata": {
            "tags": [],
            "needs_background": "light"
          }
        }
      ]
    },
    {
      "cell_type": "markdown",
      "metadata": {
        "id": "DY4tloXpuv99"
      },
      "source": [
        "# Known issues with source data"
      ]
    },
    {
      "cell_type": "markdown",
      "metadata": {
        "id": "TiQlcDfPu47c"
      },
      "source": [
        "## 1. Station names"
      ]
    },
    {
      "cell_type": "code",
      "metadata": {
        "id": "bTAh7q5PMYQG"
      },
      "source": [
        "def missing_places(key, clean_up_places = False):\n",
        "    df = get_data(key, clean_up_places = clean_up_places)\n",
        "    df_nona = get_data(key, place_as_categorical = False, clean_up_places = clean_up_places)\n",
        "    missing_places = pd.concat([ df_nona.loc[df.rental_place.isna()].rental_place, df_nona.loc[df.return_place.isna()].return_place ]).value_counts()\n",
        "\n",
        "    return missing_places"
      ],
      "execution_count": null,
      "outputs": []
    },
    {
      "cell_type": "code",
      "metadata": {
        "colab": {
          "base_uri": "https://localhost:8080/",
          "height": 86
        },
        "id": "mCSpBoXCu-Dy",
        "outputId": "919b0c5e-8dcf-446f-e163-94ce3bfc8ff1"
      },
      "source": [
        "\"; \".join(sorted(list(missing_places('09_2019', clean_up_places = True).index)))"
      ],
      "execution_count": null,
      "outputs": [
        {
          "output_type": "execute_result",
          "data": {
            "application/vnd.google.colaboratory.intrinsic+json": {
              "type": "string"
            },
            "text/plain": [
              "\"#rowery zapasowe warszawa; .gotowe do rezerwacji; .relokacyjna; .relokacyjna a1-4; aquapark; berenta / kasprowicza; braci niemojowskich/szkoła; bułgarska; cmentarz tyniecki; dworzec pkp; fabryczna\\xa0 (wsb); kozi borek; krzycka / aleja karkonoska (park południowy); ks. jolanty/most; mahle; majkowskie wembley; osobowicka / ostrowska; osobowicka / pętla tramwajowa; park przyjaźni; pl. inwalidów wojennych; pl. jana pawła ii/pomnik a. asnyka; podmiejska/orlik; poza stacją; pruślin szkoła; robotnicza / fabryczna; sadowa/mcdonald's; stawiszyńska/morelowa; strachowskiego / parafialna; targowisko; teatr; traktatowa (przystanek kolejowy); wilczak\""
            ]
          },
          "metadata": {
            "tags": []
          },
          "execution_count": 19
        }
      ]
    },
    {
      "cell_type": "markdown",
      "metadata": {
        "id": "XuW0vqQkvJCx"
      },
      "source": [
        "### 1.1 Stations from different cities.\n",
        "\n",
        "Some rental information includes stations that are not from Wrocław. For instance, visible above \"Cmentarz Tyniecki\" station is not in Wrocław (most likely in Kalisz)."
      ]
    },
    {
      "cell_type": "markdown",
      "metadata": {
        "id": "ePJFAUWnvZtM"
      },
      "source": [
        "### 1.2 Station name changes\n",
        "Some stations change their names over time. This impacts mostly old data from years 2015 and 2016. However, data from March 2019 to January 2020 is slightly impacted by this issue.\n",
        "\n",
        "For some of the stations, names differ only slightly. However, due to the fact that we can't be certain that these stations are really in the same place, or it would require significat effort to verify), the best option is to ignore this fact."
      ]
    },
    {
      "cell_type": "code",
      "metadata": {
        "id": "H6oN8Bb5fH9p"
      },
      "source": [
        "def normalize_occu_df(occu_df):\n",
        "    \"\"\"\n",
        "    Ensures that the occupancy data frame has columns for all places, months, days of months and days of week.\n",
        "    Additionaly makes sanity check for required columns.\n",
        "    \"\"\"\n",
        "    \n",
        "    places = [ (f'place_{place}', False, np.bool) for place in sorted(place_series) ]\n",
        "    months = [ (f'month_{i}', False, np.bool) for i in range(1, 12+1) ]\n",
        "    days_of_month = [ (f'days_of_month_{i}', False, np.bool) for i in range(1, 31+1) ]\n",
        "    days_of_week = [ (f'days_of_week_{i}', False, np.bool) for i in range(0, 6+1) ]\n",
        "    required = [ 'bikes_count', 'time_in_seconds', 'temperature', 'relative_humidity', 'wind_speed' ]\n",
        "    \n",
        "    for req in required:\n",
        "        if req not in occu_df:\n",
        "            print(\"Provided occu_df lacks basic columns!\")\n",
        "            return None\n",
        "    \n",
        "    checked_columns = months + days_of_month + days_of_week + places\n",
        "    for (col, val, dtype) in checked_columns:\n",
        "        if col not in occu_df:\n",
        "            occu_df[col] = val\n",
        "            \n",
        "    astype = { col: dtype for (col, val, dtype) in checked_columns }\n",
        "    occu_df = occu_df.astype(astype)\n",
        "    \n",
        "    all_columns = required + [ col for (col, val, dtype) in checked_columns ]\n",
        "    \n",
        "    return occu_df.reindex(all_columns, axis = 1)\n",
        "\n",
        "def read_csv_with_cast(path):\n",
        "    \"\"\"\n",
        "    Read CSV data from given path. Converts columns to proper types (thus making memory usage smaller).\n",
        "    \"\"\"\n",
        "    \n",
        "    places = [ (f'place_{place}', False, np.bool) for place in sorted(place_series) ]\n",
        "    months = [ (f'month_{i}', False, np.bool) for i in range(1, 12+1) ]\n",
        "    days_of_month = [ (f'days_of_month_{i}', False, np.bool) for i in range(1, 31+1) ]\n",
        "    days_of_week = [ (f'days_of_week_{i}', False, np.bool) for i in range(0, 6+1) ]\n",
        "    required = [ 'bikes_count', 'time_in_seconds', 'temperature', 'relative_humidity', 'wind_speed' ]\n",
        "    checked_columns = months + days_of_month + days_of_week + places\n",
        "    all_columns = required + [ col for (col, val, dtype) in checked_columns ]\n",
        "    \n",
        "    astype = { col: dtype for (col, val, dtype) in checked_columns }\n",
        "    \n",
        "    return pd.read_csv(path, dtype = astype).reindex(all_columns, axis = 1)\n",
        "\n",
        "def pred_stats(model, X, y):\n",
        "    \"\"\"\n",
        "    Generate prediction statistics for given model and data.\n",
        "    \"\"\"\n",
        "    \n",
        "    y_pred = model.predict(X)\n",
        "\n",
        "    return {\n",
        "        'score': model.score(X, y),\n",
        "        'mse': mean_squared_error(y, y_pred),\n",
        "        'mse_max': mean_squared_error(y, np.maximum(0, y_pred).round()),\n",
        "        'true_false': (y >= np.maximum(0, y_pred).round()).value_counts() / len(y) # fix\n",
        "    }\n",
        "\n",
        "def make_roll(occu_dfs, train_sets, test_sets):\n",
        "    \"\"\"\n",
        "    Split given dictionary of occupancy dataframes according to two given dictionary key sets.\n",
        "    Used for evaluation of rolling training.\n",
        "    \"\"\"\n",
        "    train_name = f'rolling_{len(train_sets)}_train__15min__8am_to_8pm__meteo_1hot.csv'\n",
        "    train_occu_dfs = { key: occu_dfs[key] for key in train_sets }.values()\n",
        "    pd.concat(train_occu_dfs).reset_index(drop = True).to_csv(train_name, index = False)\n",
        "    \n",
        "    test_name = f'rolling_{len(train_sets)}_test__15min__8am_to_8pm__meteo_1hot.csv'\n",
        "    test_occu_dfs = { key: occu_dfs[key] for key in test_sets }.values()\n",
        "    pd.concat(test_occu_dfs).reset_index(drop = True).to_csv(test_name, index = False)"
      ],
      "execution_count": null,
      "outputs": []
    },
    {
      "cell_type": "markdown",
      "metadata": {
        "id": "leRbMHypzjqF"
      },
      "source": [
        "#Bikes number prediction"
      ]
    },
    {
      "cell_type": "markdown",
      "metadata": {
        "id": "14PXVl8mvqPM"
      },
      "source": [
        "## Random forest on May to September, 15min intervals and limited to 8am-8pm"
      ]
    },
    {
      "cell_type": "markdown",
      "metadata": {
        "id": "bBIIjkPPfH9s"
      },
      "source": [
        "SKLearn's RandomForest doesn't support categorical columns, so conversion to 1-hot is required"
      ]
    },
    {
      "cell_type": "code",
      "metadata": {
        "id": "a6PvClWNxPSU",
        "colab": {
          "base_uri": "https://localhost:8080/"
        },
        "outputId": "7547c7a6-0372-4e90-8c7f-95026467a34e"
      },
      "source": [
        "sets = [ '05_2019', '06_2019', '07_2019', '08_2019', '09_2019' ]\n",
        "%time meteo_data = { key: get_meteo(key) for key in sets }\n",
        "\n",
        "# Variant for 1-hot-encoding\n",
        "%time occu_dfs = { key: normalize_occu_df(make_occupancy_df(get_data(key), weather = meteo_data[key], freq = '15min', hours_limit = (8, 20), one_hot_encode = True, show_weekends = False)) for key in sets }\n",
        "\n",
        "df = pd.concat(occu_dfs.values()).reset_index(drop = True)\n",
        "#%time df.to_csv('dataset_15min__8am_to_8pm_meteo_1hot.csv', index = False)"
      ],
      "execution_count": null,
      "outputs": [
        {
          "output_type": "stream",
          "text": [
            "CPU times: user 42.8 ms, sys: 3 ms, total: 45.8 ms\n",
            "Wall time: 8.53 s\n",
            "CPU times: user 2min 4s, sys: 1.54 s, total: 2min 5s\n",
            "Wall time: 2min 6s\n"
          ],
          "name": "stdout"
        }
      ]
    },
    {
      "cell_type": "code",
      "metadata": {
        "id": "s0FWX6L6fH9s",
        "colab": {
          "base_uri": "https://localhost:8080/"
        },
        "outputId": "60f2489e-2203-4adc-80c6-241b7dd69539"
      },
      "source": [
        "X, y = df.drop(columns = ['bikes_count']), df.bikes_count\n",
        "%time X_train, X_test, y_train, y_test = train_test_split(X, y, train_size = 0.67, random_state = 42)"
      ],
      "execution_count": null,
      "outputs": [
        {
          "output_type": "stream",
          "text": [
            "CPU times: user 3.4 s, sys: 8.99 ms, total: 3.41 s\n",
            "Wall time: 3.41 s\n"
          ],
          "name": "stdout"
        }
      ]
    },
    {
      "cell_type": "code",
      "metadata": {
        "id": "Pd_gSotUknjI"
      },
      "source": [
        "X_train.to_csv(\"X_train.csv\")"
      ],
      "execution_count": null,
      "outputs": []
    },
    {
      "cell_type": "code",
      "metadata": {
        "id": "2OZnV3hkfH9t",
        "colab": {
          "base_uri": "https://localhost:8080/"
        },
        "outputId": "3b125c26-a8c3-402c-cea4-22aab5cc6a44"
      },
      "source": [
        "rfms_model = sklearn.ensemble.RandomForestRegressor(n_estimators = 20, n_jobs = 2)\n",
        "%time rfms_model.fit(X_train, y_train)"
      ],
      "execution_count": null,
      "outputs": [
        {
          "output_type": "stream",
          "text": [
            "CPU times: user 1h 29min 49s, sys: 4.69 s, total: 1h 29min 53s\n",
            "Wall time: 45min 37s\n"
          ],
          "name": "stdout"
        },
        {
          "output_type": "execute_result",
          "data": {
            "text/plain": [
              "RandomForestRegressor(bootstrap=True, ccp_alpha=0.0, criterion='mse',\n",
              "                      max_depth=None, max_features='auto', max_leaf_nodes=None,\n",
              "                      max_samples=None, min_impurity_decrease=0.0,\n",
              "                      min_impurity_split=None, min_samples_leaf=1,\n",
              "                      min_samples_split=2, min_weight_fraction_leaf=0.0,\n",
              "                      n_estimators=20, n_jobs=2, oob_score=False,\n",
              "                      random_state=None, verbose=0, warm_start=False)"
            ]
          },
          "metadata": {
            "tags": []
          },
          "execution_count": 25
        }
      ]
    },
    {
      "cell_type": "code",
      "metadata": {
        "id": "olGSwoGefH9u",
        "colab": {
          "base_uri": "https://localhost:8080/"
        },
        "outputId": "75bc9bea-4581-4c3a-e7c7-5b0b0cd6fea4"
      },
      "source": [
        "%time pred_stats(rfms_model, X_train, y_train)"
      ],
      "execution_count": null,
      "outputs": [
        {
          "output_type": "stream",
          "text": [
            "CPU times: user 1min 39s, sys: 4.33 s, total: 1min 43s\n",
            "Wall time: 1min 6s\n"
          ],
          "name": "stdout"
        },
        {
          "output_type": "execute_result",
          "data": {
            "text/plain": [
              "{'mse': 0.48415323058187537,\n",
              " 'mse_max': 0.5180363992875577,\n",
              " 'score': 0.9824999782088503,\n",
              " 'true_false': True     0.884631\n",
              " False    0.115369\n",
              " Name: bikes_count, dtype: float64}"
            ]
          },
          "metadata": {
            "tags": []
          },
          "execution_count": 26
        }
      ]
    },
    {
      "cell_type": "code",
      "metadata": {
        "id": "cb8aSIhKfH9v",
        "colab": {
          "base_uri": "https://localhost:8080/"
        },
        "outputId": "90a6a710-a311-471e-f290-b882b678137a"
      },
      "source": [
        "%time pred_stats(rfms_model, X_test, y_test)"
      ],
      "execution_count": null,
      "outputs": [
        {
          "output_type": "stream",
          "text": [
            "CPU times: user 48.8 s, sys: 108 ms, total: 48.9 s\n",
            "Wall time: 30.5 s\n"
          ],
          "name": "stdout"
        },
        {
          "output_type": "execute_result",
          "data": {
            "text/plain": [
              "{'mse': 2.8859334160670738,\n",
              " 'mse_max': 2.947478514024387,\n",
              " 'score': 0.8962801296167704,\n",
              " 'true_false': True     0.746885\n",
              " False    0.253115\n",
              " Name: bikes_count, dtype: float64}"
            ]
          },
          "metadata": {
            "tags": []
          },
          "execution_count": 39
        }
      ]
    },
    {
      "cell_type": "code",
      "metadata": {
        "id": "hXsUJ8ztFKXX"
      },
      "source": [
        "X_train_no_date = X_train.drop(columns = list(df.filter(regex='month')))\n",
        "X_test_no_date = X_test.drop(columns = list(df.filter(regex='month')))\n",
        "X_train_no_meteo = X_train.drop(columns = ['temperature', 'relative_humidity', 'wind_speed'])\n",
        "X_test_no_meteo = X_test.drop(columns = ['temperature', 'relative_humidity', 'wind_speed'])"
      ],
      "execution_count": null,
      "outputs": []
    },
    {
      "cell_type": "code",
      "metadata": {
        "id": "_swRbusdG6Ct",
        "colab": {
          "base_uri": "https://localhost:8080/"
        },
        "outputId": "4d189df1-e83b-452e-b48a-4328f9a986ce"
      },
      "source": [
        "rfms_model_no_date = sklearn.ensemble.RandomForestRegressor(n_estimators = 20, n_jobs = 2)\n",
        "%time rfms_model_no_date.fit(X_train_no_date, y_train)"
      ],
      "execution_count": null,
      "outputs": [
        {
          "output_type": "stream",
          "text": [
            "CPU times: user 1h 15min 24s, sys: 3.09 s, total: 1h 15min 27s\n",
            "Wall time: 38min 34s\n"
          ],
          "name": "stdout"
        },
        {
          "output_type": "execute_result",
          "data": {
            "text/plain": [
              "RandomForestRegressor(bootstrap=True, ccp_alpha=0.0, criterion='mse',\n",
              "                      max_depth=None, max_features='auto', max_leaf_nodes=None,\n",
              "                      max_samples=None, min_impurity_decrease=0.0,\n",
              "                      min_impurity_split=None, min_samples_leaf=1,\n",
              "                      min_samples_split=2, min_weight_fraction_leaf=0.0,\n",
              "                      n_estimators=20, n_jobs=2, oob_score=False,\n",
              "                      random_state=None, verbose=0, warm_start=False)"
            ]
          },
          "metadata": {
            "tags": []
          },
          "execution_count": 48
        }
      ]
    },
    {
      "cell_type": "code",
      "metadata": {
        "id": "4Za7ggnhLify",
        "colab": {
          "base_uri": "https://localhost:8080/"
        },
        "outputId": "579c037b-c083-4fb6-8dec-189c02c232f1"
      },
      "source": [
        "rfms_model_no_meteo = sklearn.ensemble.RandomForestRegressor(n_estimators = 20, n_jobs = 2)\n",
        "%time rfms_model_no_meteo.fit(X_train_no_meteo, y_train)"
      ],
      "execution_count": null,
      "outputs": [
        {
          "output_type": "stream",
          "text": [
            "CPU times: user 1h 11min 24s, sys: 3.06 s, total: 1h 11min 27s\n",
            "Wall time: 36min 24s\n"
          ],
          "name": "stdout"
        },
        {
          "output_type": "execute_result",
          "data": {
            "text/plain": [
              "RandomForestRegressor(bootstrap=True, ccp_alpha=0.0, criterion='mse',\n",
              "                      max_depth=None, max_features='auto', max_leaf_nodes=None,\n",
              "                      max_samples=None, min_impurity_decrease=0.0,\n",
              "                      min_impurity_split=None, min_samples_leaf=1,\n",
              "                      min_samples_split=2, min_weight_fraction_leaf=0.0,\n",
              "                      n_estimators=20, n_jobs=2, oob_score=False,\n",
              "                      random_state=None, verbose=0, warm_start=False)"
            ]
          },
          "metadata": {
            "tags": []
          },
          "execution_count": 45
        }
      ]
    },
    {
      "cell_type": "code",
      "metadata": {
        "id": "SPZ-kMzzCSK3",
        "colab": {
          "base_uri": "https://localhost:8080/"
        },
        "outputId": "3b822270-cc3b-41a2-ab89-8f2ba4166ad8"
      },
      "source": [
        "%time pred_stats(rfms_model_no_date, X_train_no_date, y_train)"
      ],
      "execution_count": null,
      "outputs": [
        {
          "output_type": "stream",
          "text": [
            "CPU times: user 1min 44s, sys: 1.74 s, total: 1min 46s\n",
            "Wall time: 1min 5s\n"
          ],
          "name": "stdout"
        },
        {
          "output_type": "execute_result",
          "data": {
            "text/plain": [
              "{'mse': 0.6893687097398835,\n",
              " 'mse_max': 0.7282360280121902,\n",
              " 'score': 0.975082598016779,\n",
              " 'true_false': True     0.868098\n",
              " False    0.131902\n",
              " Name: bikes_count, dtype: float64}"
            ]
          },
          "metadata": {
            "tags": []
          },
          "execution_count": 49
        }
      ]
    },
    {
      "cell_type": "code",
      "metadata": {
        "id": "B--BRPk9Ch-r",
        "colab": {
          "base_uri": "https://localhost:8080/"
        },
        "outputId": "969902b3-bec8-4d65-c4aa-b4c974408de8"
      },
      "source": [
        "%time pred_stats(rfms_model_no_date, X_test_no_date, y_test)"
      ],
      "execution_count": null,
      "outputs": [
        {
          "output_type": "stream",
          "text": [
            "CPU times: user 48.9 s, sys: 98.8 ms, total: 49 s\n",
            "Wall time: 29.8 s\n"
          ],
          "name": "stdout"
        },
        {
          "output_type": "execute_result",
          "data": {
            "text/plain": [
              "{'mse': 4.093100782707269,\n",
              " 'mse_max': 4.158846261850956,\n",
              " 'score': 0.853512891264759,\n",
              " 'true_false': True     0.725438\n",
              " False    0.274562\n",
              " Name: bikes_count, dtype: float64}"
            ]
          },
          "metadata": {
            "tags": []
          },
          "execution_count": 50
        }
      ]
    },
    {
      "cell_type": "code",
      "metadata": {
        "id": "a9R-dANCCyT_",
        "colab": {
          "base_uri": "https://localhost:8080/"
        },
        "outputId": "a83fb757-3c95-478c-bd60-5fb145b05d00"
      },
      "source": [
        "%time pred_stats(rfms_model_no_meteo, X_train_no_meteo, y_train)"
      ],
      "execution_count": null,
      "outputs": [
        {
          "output_type": "stream",
          "text": [
            "CPU times: user 1min 21s, sys: 3.03 s, total: 1min 24s\n",
            "Wall time: 55.9 s\n"
          ],
          "name": "stdout"
        },
        {
          "output_type": "execute_result",
          "data": {
            "text/plain": [
              "{'mse': 13.691771209031884,\n",
              " 'mse_max': 13.758354871883654,\n",
              " 'score': 0.5051075538278071,\n",
              " 'true_false': True     0.588386\n",
              " False    0.411614\n",
              " Name: bikes_count, dtype: float64}"
            ]
          },
          "metadata": {
            "tags": []
          },
          "execution_count": 46
        }
      ]
    },
    {
      "cell_type": "code",
      "metadata": {
        "id": "S_Zv3eM2CqkM",
        "colab": {
          "base_uri": "https://localhost:8080/"
        },
        "outputId": "c438df4d-f26c-4c38-94b9-1654bfecd54b"
      },
      "source": [
        "%time pred_stats(rfms_model_no_meteo, X_test_no_meteo, y_test)"
      ],
      "execution_count": null,
      "outputs": [
        {
          "output_type": "stream",
          "text": [
            "CPU times: user 40.9 s, sys: 98.9 ms, total: 41 s\n",
            "Wall time: 26.6 s\n"
          ],
          "name": "stdout"
        },
        {
          "output_type": "execute_result",
          "data": {
            "text/plain": [
              "{'mse': 15.259619759893301,\n",
              " 'mse_max': 15.323383274655622,\n",
              " 'score': 0.45387673118876365,\n",
              " 'true_false': True     0.583353\n",
              " False    0.416647\n",
              " Name: bikes_count, dtype: float64}"
            ]
          },
          "metadata": {
            "tags": []
          },
          "execution_count": 47
        }
      ]
    },
    {
      "cell_type": "code",
      "metadata": {
        "colab": {
          "base_uri": "https://localhost:8080/"
        },
        "id": "KCnQeOSQasi4",
        "outputId": "1f2df551-461d-44b0-a5b8-8862c982b6bc"
      },
      "source": [
        "y_test"
      ],
      "execution_count": null,
      "outputs": [
        {
          "output_type": "execute_result",
          "data": {
            "text/plain": [
              "560896      5\n",
              "903401      1\n",
              "437963      6\n",
              "1256593     1\n",
              "135079      0\n",
              "           ..\n",
              "12264       0\n",
              "1167283     3\n",
              "1017198    22\n",
              "524815      0\n",
              "146351      0\n",
              "Name: bikes_count, Length: 523481, dtype: int64"
            ]
          },
          "metadata": {
            "tags": []
          },
          "execution_count": 96
        }
      ]
    },
    {
      "cell_type": "code",
      "metadata": {
        "colab": {
          "base_uri": "https://localhost:8080/"
        },
        "id": "YUsFwK8kUAeC",
        "outputId": "13f2d6cf-d200-48b7-ae83-749c4e4becd8"
      },
      "source": [
        "for k in range(50):\n",
        "    print(rfms_model_no_date.predict(X_test_no_date.iloc[k, ].to_numpy().reshape(1, -1))[0], '\\t:\\t', y_test.iloc[k])"
      ],
      "execution_count": null,
      "outputs": [
        {
          "output_type": "stream",
          "text": [
            "7.15 \t:\t 5\n",
            "2.0 \t:\t 1\n",
            "4.55 \t:\t 6\n",
            "1.4 \t:\t 1\n",
            "0.0 \t:\t 0\n",
            "4.4 \t:\t 4\n",
            "15.7 \t:\t 18\n",
            "0.0 \t:\t 0\n",
            "0.0 \t:\t 0\n",
            "3.65 \t:\t 2\n",
            "3.6 \t:\t 6\n",
            "0.0 \t:\t 0\n",
            "0.95 \t:\t 2\n",
            "2.05 \t:\t 2\n",
            "0.0 \t:\t 0\n",
            "0.0 \t:\t 0\n",
            "0.0 \t:\t 0\n",
            "4.95 \t:\t 7\n",
            "0.0 \t:\t 0\n",
            "0.0 \t:\t 0\n",
            "1.7 \t:\t 1\n",
            "2.15 \t:\t 3\n",
            "1.8 \t:\t 2\n",
            "2.7 \t:\t 2\n",
            "2.5 \t:\t 0\n",
            "4.55 \t:\t 0\n",
            "0.0 \t:\t 0\n",
            "3.25 \t:\t 6\n",
            "12.45 \t:\t 16\n",
            "0.65 \t:\t 0\n",
            "10.1 \t:\t 0\n",
            "13.5 \t:\t 11\n",
            "0.25 \t:\t 0\n",
            "2.85 \t:\t 4\n",
            "2.2 \t:\t 4\n",
            "10.85 \t:\t 12\n",
            "9.2 \t:\t 9\n",
            "3.6 \t:\t 4\n",
            "0.0 \t:\t 0\n",
            "0.0 \t:\t 0\n",
            "3.6 \t:\t 3\n",
            "0.0 \t:\t 0\n",
            "8.05 \t:\t 12\n",
            "0.0 \t:\t 0\n",
            "2.3 \t:\t 1\n",
            "1.55 \t:\t 3\n",
            "4.75 \t:\t 5\n",
            "3.3 \t:\t 6\n",
            "9.2 \t:\t 10\n",
            "7.2 \t:\t 8\n"
          ],
          "name": "stdout"
        }
      ]
    }
  ]
}